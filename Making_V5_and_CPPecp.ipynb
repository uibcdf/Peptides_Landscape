{
 "cells": [
  {
   "cell_type": "code",
   "execution_count": 1,
   "id": "6872076f-d279-46a4-8a64-460df29be172",
   "metadata": {},
   "outputs": [
    {
     "data": {
      "application/vnd.jupyter.widget-view+json": {
       "model_id": "225f6ae612e94af09a51b96dc2c2f349",
       "version_major": 2,
       "version_minor": 0
      },
      "text/plain": []
     },
     "metadata": {},
     "output_type": "display_data"
    }
   ],
   "source": [
    "import molsysmt as msm"
   ]
  },
  {
   "cell_type": "code",
   "execution_count": 2,
   "id": "4dc6ad14-8e00-4f42-9694-8401567ba2bd",
   "metadata": {},
   "outputs": [],
   "source": [
    "molecular_system = msm.build.build_peptide('VPMLK')"
   ]
  },
  {
   "cell_type": "code",
   "execution_count": 3,
   "id": "b91ea952-96ef-4f00-b861-b3e67c06b8d2",
   "metadata": {},
   "outputs": [],
   "source": [
    "molecular_system = msm.build.add_missing_terminal_cappings(molecular_system, N_terminal='ACE', C_terminal='NME')"
   ]
  },
  {
   "cell_type": "code",
   "execution_count": 4,
   "id": "26713b28-32c8-435e-add1-6dca82157dc3",
   "metadata": {},
   "outputs": [
    {
     "data": {
      "application/vnd.jupyter.widget-view+json": {
       "model_id": "f596471b0f194689a20e3c68daa16b0e",
       "version_major": 2,
       "version_minor": 0
      },
      "text/plain": [
       "NGLWidget()"
      ]
     },
     "metadata": {},
     "output_type": "display_data"
    }
   ],
   "source": [
    "msm.view(molecular_system, standard=True)"
   ]
  },
  {
   "cell_type": "code",
   "execution_count": 5,
   "id": "8fc91a85-175a-42e4-af43-20513b3d0c5b",
   "metadata": {},
   "outputs": [
    {
     "data": {
      "text/plain": [
       "'V5.pdb'"
      ]
     },
     "execution_count": 5,
     "metadata": {},
     "output_type": "execute_result"
    }
   ],
   "source": [
    "msm.convert(molecular_system, 'V5.pdb')"
   ]
  },
  {
   "cell_type": "code",
   "execution_count": 6,
   "id": "c862f6b1-4b42-4d0a-938d-8e40aebe153e",
   "metadata": {},
   "outputs": [],
   "source": [
    "molecular_system = msm.build.build_peptide('NYRWRCKNQN')"
   ]
  },
  {
   "cell_type": "code",
   "execution_count": 7,
   "id": "98ff27c9-425c-4c05-9d73-970bc71f91b6",
   "metadata": {},
   "outputs": [],
   "source": [
    "molecular_system = msm.build.add_missing_terminal_cappings(molecular_system, N_terminal='ACE', C_terminal='NME')"
   ]
  },
  {
   "cell_type": "code",
   "execution_count": 8,
   "id": "b89302e1-799c-4189-b081-5d3878994843",
   "metadata": {},
   "outputs": [
    {
     "data": {
      "application/vnd.jupyter.widget-view+json": {
       "model_id": "99e8108864b943d7bd84045b0ab85d93",
       "version_major": 2,
       "version_minor": 0
      },
      "text/plain": [
       "NGLWidget()"
      ]
     },
     "metadata": {},
     "output_type": "display_data"
    }
   ],
   "source": [
    "msm.view(molecular_system, standard=True)"
   ]
  },
  {
   "cell_type": "code",
   "execution_count": 9,
   "id": "38714aff-275a-4786-aed7-06922edde013",
   "metadata": {},
   "outputs": [
    {
     "data": {
      "text/plain": [
       "'CPPecp.pdb'"
      ]
     },
     "execution_count": 9,
     "metadata": {},
     "output_type": "execute_result"
    }
   ],
   "source": [
    "msm.convert(molecular_system, 'CPPecp.pdb')"
   ]
  },
  {
   "cell_type": "code",
   "execution_count": null,
   "id": "c9a2458c-f5fd-465e-9f5e-00138a21d6a1",
   "metadata": {},
   "outputs": [],
   "source": []
  }
 ],
 "metadata": {
  "kernelspec": {
   "display_name": "Python 3 (ipykernel)",
   "language": "python",
   "name": "python3"
  },
  "language_info": {
   "codemirror_mode": {
    "name": "ipython",
    "version": 3
   },
   "file_extension": ".py",
   "mimetype": "text/x-python",
   "name": "python",
   "nbconvert_exporter": "python",
   "pygments_lexer": "ipython3",
   "version": "3.11.10"
  }
 },
 "nbformat": 4,
 "nbformat_minor": 5
}
