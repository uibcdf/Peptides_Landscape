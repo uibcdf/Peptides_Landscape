{
 "cells": [
  {
   "cell_type": "code",
   "execution_count": null,
   "id": "e056a445-3aee-47f7-9f8c-fad94aca97bc",
   "metadata": {},
   "outputs": [],
   "source": [
    "import pickle\n",
    "import gzip\n",
    "from matplotlib import pyplot as plt\n",
    "import networkx as nx\n",
    "from tqdm import tqdm\n",
    "import numpy as np"
   ]
  },
  {
   "cell_type": "code",
   "execution_count": null,
   "id": "514b8168-3184-453d-8c23-d064f3e1a1e3",
   "metadata": {},
   "outputs": [],
   "source": [
    "energy_dbs = []\n",
    "traj_inh = []\n",
    "coors_dbs = []\n",
    "dihed_dbs = []\n",
    "\n",
    "for ii in [0,1,2]:\n",
    "    \n",
    "    with gzip.open(f'tests/energies_{ii}.pkl.gz', 'r') as fff:\n",
    "        energy_dbs.append(pickle.load(fff))\n",
    "        \n",
    "    with gzip.open(f'tests/traj_inh_{ii}.pkl.gz', 'r') as fff:\n",
    "        traj_inh.append(pickle.load(fff))\n",
    "\n",
    "    with gzip.open(f'tests/coors_{ii}.pkl.gz', 'r') as fff:\n",
    "        coors_dbs.append(pickle.load(fff))\n",
    "\n",
    "    with gzip.open(f'tests/dihed_{ii}.pkl.gz', 'r') as fff:\n",
    "        dihed_dbs.append(pickle.load(fff))\n"
   ]
  },
  {
   "cell_type": "code",
   "execution_count": null,
   "id": "ab7638c8-a447-4895-8f89-e55e7f297a7b",
   "metadata": {},
   "outputs": [],
   "source": [
    "dihed_dbs[1][0]"
   ]
  },
  {
   "cell_type": "code",
   "execution_count": null,
   "id": "7dc6f6b9-4033-480a-8a73-d94a809270c3",
   "metadata": {},
   "outputs": [],
   "source": [
    "energy_all = energy_dbs[0]\n",
    "traj_inh_all = [traj_inh[0]]\n",
    "coors_dbs_all = coors_dbs[0]\n",
    "dihed_dbs_all = dihed_dbs[0]"
   ]
  },
  {
   "cell_type": "code",
   "execution_count": null,
   "id": "2bd0f32e-9f06-4867-8b88-d915ae2e87d0",
   "metadata": {},
   "outputs": [],
   "source": [
    "def es_el_mismo(angs1, angs2):\n",
    "    if np.max(np.abs(angs1-angs2))<0.1:\n",
    "        return True\n",
    "    else:\n",
    "        return False"
   ]
  },
  {
   "cell_type": "code",
   "execution_count": null,
   "id": "bfe31b2c-a94d-4669-9a09-4476600d86d7",
   "metadata": {},
   "outputs": [],
   "source": [
    "trans_1={}\n",
    "\n",
    "for ii in tqdm(range(len(dihed_dbs[1]))):\n",
    "    aux_ang = dihed_dbs[1][ii]\n",
    "    visto=False\n",
    "    for jj in range(len(dihed_dbs_all)):\n",
    "        ref_ang = dihed_dbs_all[jj]\n",
    "        if es_el_mismo(aux_ang, ref_ang):\n",
    "            trans_1[ii]=jj\n",
    "            visto=True\n",
    "            break\n",
    "    if visto==False:\n",
    "        kk=len(dihed_dbs_all)\n",
    "        trans_1[ii]=kk\n",
    "        dihed_dbs_all.append(aux_ang)\n",
    "        "
   ]
  },
  {
   "cell_type": "code",
   "execution_count": null,
   "id": "01340aef-e8e8-4cb3-869a-252c0546db42",
   "metadata": {},
   "outputs": [],
   "source": [
    "len(dihed_dbs_all)"
   ]
  },
  {
   "cell_type": "code",
   "execution_count": null,
   "id": "e43c31e7-ac31-4421-850a-5bc593620551",
   "metadata": {},
   "outputs": [],
   "source": [
    "trans_2={}\n",
    "\n",
    "for ii in tqdm(range(len(dihed_dbs[2]))):\n",
    "    aux_ang = dihed_dbs[2][ii]\n",
    "    visto=False\n",
    "    for jj in range(len(dihed_dbs_all)):\n",
    "        ref_ang = dihed_dbs_all[jj]\n",
    "        if es_el_mismo(aux_ang, ref_ang):\n",
    "            trans_2[ii]=jj\n",
    "            visto=True\n",
    "            break\n",
    "    if visto==False:\n",
    "        kk=len(dihed_dbs_all)\n",
    "        trans_1[ii]=kk\n",
    "        dihed_dbs_all.append(aux_ang)"
   ]
  },
  {
   "cell_type": "code",
   "execution_count": null,
   "id": "906d0e16-55b7-4317-b3f6-48627cf033a4",
   "metadata": {},
   "outputs": [],
   "source": [
    "len(dihed_dbs_all)"
   ]
  },
  {
   "cell_type": "code",
   "execution_count": null,
   "id": "ccceb26b-e2c9-4228-9ad5-f53422b25668",
   "metadata": {},
   "outputs": [],
   "source": [
    "len(trans_2)"
   ]
  },
  {
   "cell_type": "code",
   "execution_count": null,
   "id": "ee9a995b-dbed-42a6-aeb5-f0e04caf2ee2",
   "metadata": {},
   "outputs": [],
   "source": []
  },
  {
   "cell_type": "code",
   "execution_count": null,
   "id": "6748d8a1-0503-4b59-9780-445453c7b9af",
   "metadata": {},
   "outputs": [],
   "source": [
    "pesos_transiciones={}\n",
    "pesos_nodos={}"
   ]
  },
  {
   "cell_type": "code",
   "execution_count": null,
   "id": "c774f5ad-ed4f-4263-a69f-e7bb1f7b99ce",
   "metadata": {},
   "outputs": [],
   "source": [
    "for ii in range(len(traj_inh)-1):\n",
    "    nodo_1 = traj_inh[ii]\n",
    "    nodo_2 = traj_inh[ii+1]\n",
    "    if (nodo_1, nodo_2) in pesos_transiciones:\n",
    "        pesos_transiciones[nodo_1, nodo_2]+=1\n",
    "    else:\n",
    "        pesos_transiciones[nodo_1, nodo_2]=1\n",
    "    if nodo_1 in pesos_nodos:\n",
    "        pesos_nodos[nodo_1]+=1\n",
    "    else:\n",
    "        pesos_nodos[nodo_1]=1"
   ]
  },
  {
   "cell_type": "code",
   "execution_count": null,
   "id": "ad61f60f-1f7b-41e4-b6c8-f790fbcbd06d",
   "metadata": {},
   "outputs": [],
   "source": [
    "G = nx.DiGraph()  # Para un grafo dirigido"
   ]
  },
  {
   "cell_type": "code",
   "execution_count": null,
   "id": "2ee9ca50-98bf-4fd9-991b-c982c0474bfc",
   "metadata": {},
   "outputs": [],
   "source": [
    "# Agregar las aristas desde el diccionario\n",
    "for nodes, peso in pesos_transiciones.items():\n",
    "    G.add_edge(nodes[0], nodes[1])"
   ]
  },
  {
   "cell_type": "code",
   "execution_count": null,
   "id": "125ea653-a074-415a-be40-5abf04988735",
   "metadata": {},
   "outputs": [],
   "source": [
    "nx.draw(G, with_labels=False, node_color=\"blue\", node_size=0.1)\n",
    "plt.show()"
   ]
  },
  {
   "cell_type": "code",
   "execution_count": null,
   "id": "ca95ce3e-f278-4214-a7bb-364aac352104",
   "metadata": {},
   "outputs": [],
   "source": []
  }
 ],
 "metadata": {
  "kernelspec": {
   "display_name": "Python 3 (ipykernel)",
   "language": "python",
   "name": "python3"
  },
  "language_info": {
   "codemirror_mode": {
    "name": "ipython",
    "version": 3
   },
   "file_extension": ".py",
   "mimetype": "text/x-python",
   "name": "python",
   "nbconvert_exporter": "python",
   "pygments_lexer": "ipython3",
   "version": "3.11.10"
  }
 },
 "nbformat": 4,
 "nbformat_minor": 5
}
